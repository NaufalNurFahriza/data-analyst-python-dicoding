{
 "cells": [
  {
   "cell_type": "markdown",
   "metadata": {
    "id": "H9wADwK78DCz"
   },
   "source": [
    "# Proyek Analisis Data: Bike Sharing Dataset\n",
    "- **Nama:** Naufal Nur Fahriza\n",
    "- **Email:** naufalnurfahriza@gmail.com\n",
    "- **ID Dicoding:** a297ybf370"
   ]
  },
  {
   "cell_type": "markdown",
   "metadata": {
    "id": "eE0raob58DC0"
   },
   "source": [
    "## Menentukan Pertanyaan Bisnis"
   ]
  },
  {
   "cell_type": "markdown",
   "metadata": {
    "id": "GmQeQ5YF8DC0"
   },
   "source": [
    "- Pertanyaan 1: Pada jam berapa penyewaan sepeda yang paling banyak dan paling sedikit?\n",
    "- Pertanyaan 2: Bagaimana pengaruh suhu terhadap peminjaman sepeda?"
   ]
  },
  {
   "cell_type": "markdown",
   "metadata": {
    "id": "H-z4QGlO8DC1"
   },
   "source": [
    "## Import Semua Packages/Library yang Digunakan"
   ]
  },
  {
   "cell_type": "code",
   "execution_count": 1,
   "metadata": {
    "id": "FVYwaObI8DC1"
   },
   "outputs": [],
   "source": [
    "import numpy as np\n",
    "import pandas as pd\n",
    "import matplotlib.pyplot as plt\n",
    "import seaborn as sns\n",
    "from datetime import datetime"
   ]
  },
  {
   "cell_type": "code",
   "execution_count": 2,
   "metadata": {
    "id": "20wB7lWkboSr"
   },
   "outputs": [],
   "source": [
    "# Setting untuk visualisasi\n",
    "plt.style.use('ggplot')\n",
    "sns.set(style=\"whitegrid\")"
   ]
  },
  {
   "cell_type": "markdown",
   "metadata": {
    "id": "h_Sh51Xy8DC1"
   },
   "source": [
    "## Data Wrangling"
   ]
  },
  {
   "cell_type": "markdown",
   "metadata": {
    "id": "sXU2GBYu8DC1"
   },
   "source": [
    "### Gathering Data"
   ]
  },
  {
   "cell_type": "markdown",
   "metadata": {
    "id": "zV7GjLTgJ0cm"
   },
   "source": [
    "Mengimpor dataset dari file day.csv"
   ]
  },
  {
   "cell_type": "code",
   "execution_count": 3,
   "metadata": {
    "colab": {
     "base_uri": "https://localhost:8080/",
     "height": 206
    },
    "id": "zjCBk1BI8DC1",
    "outputId": "9b33e5e3-a706-438a-dd32-4a0aa5634636"
   },
   "outputs": [
    {
     "data": {
      "application/vnd.google.colaboratory.intrinsic+json": {
       "summary": "{\n  \"name\": \"display(df_day\",\n  \"rows\": 5,\n  \"fields\": [\n    {\n      \"column\": \"instant\",\n      \"properties\": {\n        \"dtype\": \"number\",\n        \"std\": 1,\n        \"min\": 1,\n        \"max\": 5,\n        \"num_unique_values\": 5,\n        \"samples\": [\n          2,\n          5,\n          3\n        ],\n        \"semantic_type\": \"\",\n        \"description\": \"\"\n      }\n    },\n    {\n      \"column\": \"dteday\",\n      \"properties\": {\n        \"dtype\": \"object\",\n        \"num_unique_values\": 5,\n        \"samples\": [\n          \"2011-01-02\",\n          \"2011-01-05\",\n          \"2011-01-03\"\n        ],\n        \"semantic_type\": \"\",\n        \"description\": \"\"\n      }\n    },\n    {\n      \"column\": \"season\",\n      \"properties\": {\n        \"dtype\": \"number\",\n        \"std\": 0,\n        \"min\": 1,\n        \"max\": 1,\n        \"num_unique_values\": 1,\n        \"samples\": [\n          1\n        ],\n        \"semantic_type\": \"\",\n        \"description\": \"\"\n      }\n    },\n    {\n      \"column\": \"yr\",\n      \"properties\": {\n        \"dtype\": \"number\",\n        \"std\": 0,\n        \"min\": 0,\n        \"max\": 0,\n        \"num_unique_values\": 1,\n        \"samples\": [\n          0\n        ],\n        \"semantic_type\": \"\",\n        \"description\": \"\"\n      }\n    },\n    {\n      \"column\": \"mnth\",\n      \"properties\": {\n        \"dtype\": \"number\",\n        \"std\": 0,\n        \"min\": 1,\n        \"max\": 1,\n        \"num_unique_values\": 1,\n        \"samples\": [\n          1\n        ],\n        \"semantic_type\": \"\",\n        \"description\": \"\"\n      }\n    },\n    {\n      \"column\": \"holiday\",\n      \"properties\": {\n        \"dtype\": \"number\",\n        \"std\": 0,\n        \"min\": 0,\n        \"max\": 0,\n        \"num_unique_values\": 1,\n        \"samples\": [\n          0\n        ],\n        \"semantic_type\": \"\",\n        \"description\": \"\"\n      }\n    },\n    {\n      \"column\": \"weekday\",\n      \"properties\": {\n        \"dtype\": \"number\",\n        \"std\": 2,\n        \"min\": 0,\n        \"max\": 6,\n        \"num_unique_values\": 5,\n        \"samples\": [\n          0\n        ],\n        \"semantic_type\": \"\",\n        \"description\": \"\"\n      }\n    },\n    {\n      \"column\": \"workingday\",\n      \"properties\": {\n        \"dtype\": \"number\",\n        \"std\": 0,\n        \"min\": 0,\n        \"max\": 1,\n        \"num_unique_values\": 2,\n        \"samples\": [\n          1\n        ],\n        \"semantic_type\": \"\",\n        \"description\": \"\"\n      }\n    },\n    {\n      \"column\": \"weathersit\",\n      \"properties\": {\n        \"dtype\": \"number\",\n        \"std\": 0,\n        \"min\": 1,\n        \"max\": 2,\n        \"num_unique_values\": 2,\n        \"samples\": [\n          1\n        ],\n        \"semantic_type\": \"\",\n        \"description\": \"\"\n      }\n    },\n    {\n      \"column\": \"temp\",\n      \"properties\": {\n        \"dtype\": \"number\",\n        \"std\": 0.08115014184645644,\n        \"min\": 0.196364,\n        \"max\": 0.363478,\n        \"num_unique_values\": 5,\n        \"samples\": [\n          0.363478\n        ],\n        \"semantic_type\": \"\",\n        \"description\": \"\"\n      }\n    },\n    {\n      \"column\": \"atemp\",\n      \"properties\": {\n        \"dtype\": \"number\",\n        \"std\": 0.08258561341238557,\n        \"min\": 0.189405,\n        \"max\": 0.363625,\n        \"num_unique_values\": 5,\n        \"samples\": [\n          0.353739\n        ],\n        \"semantic_type\": \"\",\n        \"description\": \"\"\n      }\n    },\n    {\n      \"column\": \"hum\",\n      \"properties\": {\n        \"dtype\": \"number\",\n        \"std\": 0.16165643245475883,\n        \"min\": 0.436957,\n        \"max\": 0.805833,\n        \"num_unique_values\": 5,\n        \"samples\": [\n          0.696087\n        ],\n        \"semantic_type\": \"\",\n        \"description\": \"\"\n      }\n    },\n    {\n      \"column\": \"windspeed\",\n      \"properties\": {\n        \"dtype\": \"number\",\n        \"std\": 0.044716603499147835,\n        \"min\": 0.160296,\n        \"max\": 0.248539,\n        \"num_unique_values\": 5,\n        \"samples\": [\n          0.248539\n        ],\n        \"semantic_type\": \"\",\n        \"description\": \"\"\n      }\n    },\n    {\n      \"column\": \"casual\",\n      \"properties\": {\n        \"dtype\": \"number\",\n        \"std\": 100,\n        \"min\": 82,\n        \"max\": 331,\n        \"num_unique_values\": 5,\n        \"samples\": [\n          131\n        ],\n        \"semantic_type\": \"\",\n        \"description\": \"\"\n      }\n    },\n    {\n      \"column\": \"registered\",\n      \"properties\": {\n        \"dtype\": \"number\",\n        \"std\": 418,\n        \"min\": 654,\n        \"max\": 1518,\n        \"num_unique_values\": 5,\n        \"samples\": [\n          670\n        ],\n        \"semantic_type\": \"\",\n        \"description\": \"\"\n      }\n    },\n    {\n      \"column\": \"cnt\",\n      \"properties\": {\n        \"dtype\": \"number\",\n        \"std\": 353,\n        \"min\": 801,\n        \"max\": 1600,\n        \"num_unique_values\": 5,\n        \"samples\": [\n          801\n        ],\n        \"semantic_type\": \"\",\n        \"description\": \"\"\n      }\n    }\n  ]\n}",
       "type": "dataframe"
      },
      "text/html": [
       "\n",
       "  <div id=\"df-e3c37553-589e-42c2-a7bf-4f4e720c9da2\" class=\"colab-df-container\">\n",
       "    <div>\n",
       "<style scoped>\n",
       "    .dataframe tbody tr th:only-of-type {\n",
       "        vertical-align: middle;\n",
       "    }\n",
       "\n",
       "    .dataframe tbody tr th {\n",
       "        vertical-align: top;\n",
       "    }\n",
       "\n",
       "    .dataframe thead th {\n",
       "        text-align: right;\n",
       "    }\n",
       "</style>\n",
       "<table border=\"1\" class=\"dataframe\">\n",
       "  <thead>\n",
       "    <tr style=\"text-align: right;\">\n",
       "      <th></th>\n",
       "      <th>instant</th>\n",
       "      <th>dteday</th>\n",
       "      <th>season</th>\n",
       "      <th>yr</th>\n",
       "      <th>mnth</th>\n",
       "      <th>holiday</th>\n",
       "      <th>weekday</th>\n",
       "      <th>workingday</th>\n",
       "      <th>weathersit</th>\n",
       "      <th>temp</th>\n",
       "      <th>atemp</th>\n",
       "      <th>hum</th>\n",
       "      <th>windspeed</th>\n",
       "      <th>casual</th>\n",
       "      <th>registered</th>\n",
       "      <th>cnt</th>\n",
       "    </tr>\n",
       "  </thead>\n",
       "  <tbody>\n",
       "    <tr>\n",
       "      <th>0</th>\n",
       "      <td>1</td>\n",
       "      <td>2011-01-01</td>\n",
       "      <td>1</td>\n",
       "      <td>0</td>\n",
       "      <td>1</td>\n",
       "      <td>0</td>\n",
       "      <td>6</td>\n",
       "      <td>0</td>\n",
       "      <td>2</td>\n",
       "      <td>0.344167</td>\n",
       "      <td>0.363625</td>\n",
       "      <td>0.805833</td>\n",
       "      <td>0.160446</td>\n",
       "      <td>331</td>\n",
       "      <td>654</td>\n",
       "      <td>985</td>\n",
       "    </tr>\n",
       "    <tr>\n",
       "      <th>1</th>\n",
       "      <td>2</td>\n",
       "      <td>2011-01-02</td>\n",
       "      <td>1</td>\n",
       "      <td>0</td>\n",
       "      <td>1</td>\n",
       "      <td>0</td>\n",
       "      <td>0</td>\n",
       "      <td>0</td>\n",
       "      <td>2</td>\n",
       "      <td>0.363478</td>\n",
       "      <td>0.353739</td>\n",
       "      <td>0.696087</td>\n",
       "      <td>0.248539</td>\n",
       "      <td>131</td>\n",
       "      <td>670</td>\n",
       "      <td>801</td>\n",
       "    </tr>\n",
       "    <tr>\n",
       "      <th>2</th>\n",
       "      <td>3</td>\n",
       "      <td>2011-01-03</td>\n",
       "      <td>1</td>\n",
       "      <td>0</td>\n",
       "      <td>1</td>\n",
       "      <td>0</td>\n",
       "      <td>1</td>\n",
       "      <td>1</td>\n",
       "      <td>1</td>\n",
       "      <td>0.196364</td>\n",
       "      <td>0.189405</td>\n",
       "      <td>0.437273</td>\n",
       "      <td>0.248309</td>\n",
       "      <td>120</td>\n",
       "      <td>1229</td>\n",
       "      <td>1349</td>\n",
       "    </tr>\n",
       "    <tr>\n",
       "      <th>3</th>\n",
       "      <td>4</td>\n",
       "      <td>2011-01-04</td>\n",
       "      <td>1</td>\n",
       "      <td>0</td>\n",
       "      <td>1</td>\n",
       "      <td>0</td>\n",
       "      <td>2</td>\n",
       "      <td>1</td>\n",
       "      <td>1</td>\n",
       "      <td>0.200000</td>\n",
       "      <td>0.212122</td>\n",
       "      <td>0.590435</td>\n",
       "      <td>0.160296</td>\n",
       "      <td>108</td>\n",
       "      <td>1454</td>\n",
       "      <td>1562</td>\n",
       "    </tr>\n",
       "    <tr>\n",
       "      <th>4</th>\n",
       "      <td>5</td>\n",
       "      <td>2011-01-05</td>\n",
       "      <td>1</td>\n",
       "      <td>0</td>\n",
       "      <td>1</td>\n",
       "      <td>0</td>\n",
       "      <td>3</td>\n",
       "      <td>1</td>\n",
       "      <td>1</td>\n",
       "      <td>0.226957</td>\n",
       "      <td>0.229270</td>\n",
       "      <td>0.436957</td>\n",
       "      <td>0.186900</td>\n",
       "      <td>82</td>\n",
       "      <td>1518</td>\n",
       "      <td>1600</td>\n",
       "    </tr>\n",
       "  </tbody>\n",
       "</table>\n",
       "</div>\n",
       "    <div class=\"colab-df-buttons\">\n",
       "\n",
       "  <div class=\"colab-df-container\">\n",
       "    <button class=\"colab-df-convert\" onclick=\"convertToInteractive('df-e3c37553-589e-42c2-a7bf-4f4e720c9da2')\"\n",
       "            title=\"Convert this dataframe to an interactive table.\"\n",
       "            style=\"display:none;\">\n",
       "\n",
       "  <svg xmlns=\"http://www.w3.org/2000/svg\" height=\"24px\" viewBox=\"0 -960 960 960\">\n",
       "    <path d=\"M120-120v-720h720v720H120Zm60-500h600v-160H180v160Zm220 220h160v-160H400v160Zm0 220h160v-160H400v160ZM180-400h160v-160H180v160Zm440 0h160v-160H620v160ZM180-180h160v-160H180v160Zm440 0h160v-160H620v160Z\"/>\n",
       "  </svg>\n",
       "    </button>\n",
       "\n",
       "  <style>\n",
       "    .colab-df-container {\n",
       "      display:flex;\n",
       "      gap: 12px;\n",
       "    }\n",
       "\n",
       "    .colab-df-convert {\n",
       "      background-color: #E8F0FE;\n",
       "      border: none;\n",
       "      border-radius: 50%;\n",
       "      cursor: pointer;\n",
       "      display: none;\n",
       "      fill: #1967D2;\n",
       "      height: 32px;\n",
       "      padding: 0 0 0 0;\n",
       "      width: 32px;\n",
       "    }\n",
       "\n",
       "    .colab-df-convert:hover {\n",
       "      background-color: #E2EBFA;\n",
       "      box-shadow: 0px 1px 2px rgba(60, 64, 67, 0.3), 0px 1px 3px 1px rgba(60, 64, 67, 0.15);\n",
       "      fill: #174EA6;\n",
       "    }\n",
       "\n",
       "    .colab-df-buttons div {\n",
       "      margin-bottom: 4px;\n",
       "    }\n",
       "\n",
       "    [theme=dark] .colab-df-convert {\n",
       "      background-color: #3B4455;\n",
       "      fill: #D2E3FC;\n",
       "    }\n",
       "\n",
       "    [theme=dark] .colab-df-convert:hover {\n",
       "      background-color: #434B5C;\n",
       "      box-shadow: 0px 1px 3px 1px rgba(0, 0, 0, 0.15);\n",
       "      filter: drop-shadow(0px 1px 2px rgba(0, 0, 0, 0.3));\n",
       "      fill: #FFFFFF;\n",
       "    }\n",
       "  </style>\n",
       "\n",
       "    <script>\n",
       "      const buttonEl =\n",
       "        document.querySelector('#df-e3c37553-589e-42c2-a7bf-4f4e720c9da2 button.colab-df-convert');\n",
       "      buttonEl.style.display =\n",
       "        google.colab.kernel.accessAllowed ? 'block' : 'none';\n",
       "\n",
       "      async function convertToInteractive(key) {\n",
       "        const element = document.querySelector('#df-e3c37553-589e-42c2-a7bf-4f4e720c9da2');\n",
       "        const dataTable =\n",
       "          await google.colab.kernel.invokeFunction('convertToInteractive',\n",
       "                                                    [key], {});\n",
       "        if (!dataTable) return;\n",
       "\n",
       "        const docLinkHtml = 'Like what you see? Visit the ' +\n",
       "          '<a target=\"_blank\" href=https://colab.research.google.com/notebooks/data_table.ipynb>data table notebook</a>'\n",
       "          + ' to learn more about interactive tables.';\n",
       "        element.innerHTML = '';\n",
       "        dataTable['output_type'] = 'display_data';\n",
       "        await google.colab.output.renderOutput(dataTable, element);\n",
       "        const docLink = document.createElement('div');\n",
       "        docLink.innerHTML = docLinkHtml;\n",
       "        element.appendChild(docLink);\n",
       "      }\n",
       "    </script>\n",
       "  </div>\n",
       "\n",
       "\n",
       "<div id=\"df-b915691c-1a03-49ef-b265-ad61737566bc\">\n",
       "  <button class=\"colab-df-quickchart\" onclick=\"quickchart('df-b915691c-1a03-49ef-b265-ad61737566bc')\"\n",
       "            title=\"Suggest charts\"\n",
       "            style=\"display:none;\">\n",
       "\n",
       "<svg xmlns=\"http://www.w3.org/2000/svg\" height=\"24px\"viewBox=\"0 0 24 24\"\n",
       "     width=\"24px\">\n",
       "    <g>\n",
       "        <path d=\"M19 3H5c-1.1 0-2 .9-2 2v14c0 1.1.9 2 2 2h14c1.1 0 2-.9 2-2V5c0-1.1-.9-2-2-2zM9 17H7v-7h2v7zm4 0h-2V7h2v10zm4 0h-2v-4h2v4z\"/>\n",
       "    </g>\n",
       "</svg>\n",
       "  </button>\n",
       "\n",
       "<style>\n",
       "  .colab-df-quickchart {\n",
       "      --bg-color: #E8F0FE;\n",
       "      --fill-color: #1967D2;\n",
       "      --hover-bg-color: #E2EBFA;\n",
       "      --hover-fill-color: #174EA6;\n",
       "      --disabled-fill-color: #AAA;\n",
       "      --disabled-bg-color: #DDD;\n",
       "  }\n",
       "\n",
       "  [theme=dark] .colab-df-quickchart {\n",
       "      --bg-color: #3B4455;\n",
       "      --fill-color: #D2E3FC;\n",
       "      --hover-bg-color: #434B5C;\n",
       "      --hover-fill-color: #FFFFFF;\n",
       "      --disabled-bg-color: #3B4455;\n",
       "      --disabled-fill-color: #666;\n",
       "  }\n",
       "\n",
       "  .colab-df-quickchart {\n",
       "    background-color: var(--bg-color);\n",
       "    border: none;\n",
       "    border-radius: 50%;\n",
       "    cursor: pointer;\n",
       "    display: none;\n",
       "    fill: var(--fill-color);\n",
       "    height: 32px;\n",
       "    padding: 0;\n",
       "    width: 32px;\n",
       "  }\n",
       "\n",
       "  .colab-df-quickchart:hover {\n",
       "    background-color: var(--hover-bg-color);\n",
       "    box-shadow: 0 1px 2px rgba(60, 64, 67, 0.3), 0 1px 3px 1px rgba(60, 64, 67, 0.15);\n",
       "    fill: var(--button-hover-fill-color);\n",
       "  }\n",
       "\n",
       "  .colab-df-quickchart-complete:disabled,\n",
       "  .colab-df-quickchart-complete:disabled:hover {\n",
       "    background-color: var(--disabled-bg-color);\n",
       "    fill: var(--disabled-fill-color);\n",
       "    box-shadow: none;\n",
       "  }\n",
       "\n",
       "  .colab-df-spinner {\n",
       "    border: 2px solid var(--fill-color);\n",
       "    border-color: transparent;\n",
       "    border-bottom-color: var(--fill-color);\n",
       "    animation:\n",
       "      spin 1s steps(1) infinite;\n",
       "  }\n",
       "\n",
       "  @keyframes spin {\n",
       "    0% {\n",
       "      border-color: transparent;\n",
       "      border-bottom-color: var(--fill-color);\n",
       "      border-left-color: var(--fill-color);\n",
       "    }\n",
       "    20% {\n",
       "      border-color: transparent;\n",
       "      border-left-color: var(--fill-color);\n",
       "      border-top-color: var(--fill-color);\n",
       "    }\n",
       "    30% {\n",
       "      border-color: transparent;\n",
       "      border-left-color: var(--fill-color);\n",
       "      border-top-color: var(--fill-color);\n",
       "      border-right-color: var(--fill-color);\n",
       "    }\n",
       "    40% {\n",
       "      border-color: transparent;\n",
       "      border-right-color: var(--fill-color);\n",
       "      border-top-color: var(--fill-color);\n",
       "    }\n",
       "    60% {\n",
       "      border-color: transparent;\n",
       "      border-right-color: var(--fill-color);\n",
       "    }\n",
       "    80% {\n",
       "      border-color: transparent;\n",
       "      border-right-color: var(--fill-color);\n",
       "      border-bottom-color: var(--fill-color);\n",
       "    }\n",
       "    90% {\n",
       "      border-color: transparent;\n",
       "      border-bottom-color: var(--fill-color);\n",
       "    }\n",
       "  }\n",
       "</style>\n",
       "\n",
       "  <script>\n",
       "    async function quickchart(key) {\n",
       "      const quickchartButtonEl =\n",
       "        document.querySelector('#' + key + ' button');\n",
       "      quickchartButtonEl.disabled = true;  // To prevent multiple clicks.\n",
       "      quickchartButtonEl.classList.add('colab-df-spinner');\n",
       "      try {\n",
       "        const charts = await google.colab.kernel.invokeFunction(\n",
       "            'suggestCharts', [key], {});\n",
       "      } catch (error) {\n",
       "        console.error('Error during call to suggestCharts:', error);\n",
       "      }\n",
       "      quickchartButtonEl.classList.remove('colab-df-spinner');\n",
       "      quickchartButtonEl.classList.add('colab-df-quickchart-complete');\n",
       "    }\n",
       "    (() => {\n",
       "      let quickchartButtonEl =\n",
       "        document.querySelector('#df-b915691c-1a03-49ef-b265-ad61737566bc button');\n",
       "      quickchartButtonEl.style.display =\n",
       "        google.colab.kernel.accessAllowed ? 'block' : 'none';\n",
       "    })();\n",
       "  </script>\n",
       "</div>\n",
       "\n",
       "    </div>\n",
       "  </div>\n"
      ],
      "text/plain": [
       "   instant      dteday  season  yr  mnth  holiday  weekday  workingday  \\\n",
       "0        1  2011-01-01       1   0     1        0        6           0   \n",
       "1        2  2011-01-02       1   0     1        0        0           0   \n",
       "2        3  2011-01-03       1   0     1        0        1           1   \n",
       "3        4  2011-01-04       1   0     1        0        2           1   \n",
       "4        5  2011-01-05       1   0     1        0        3           1   \n",
       "\n",
       "   weathersit      temp     atemp       hum  windspeed  casual  registered  \\\n",
       "0           2  0.344167  0.363625  0.805833   0.160446     331         654   \n",
       "1           2  0.363478  0.353739  0.696087   0.248539     131         670   \n",
       "2           1  0.196364  0.189405  0.437273   0.248309     120        1229   \n",
       "3           1  0.200000  0.212122  0.590435   0.160296     108        1454   \n",
       "4           1  0.226957  0.229270  0.436957   0.186900      82        1518   \n",
       "\n",
       "    cnt  \n",
       "0   985  \n",
       "1   801  \n",
       "2  1349  \n",
       "3  1562  \n",
       "4  1600  "
      ]
     },
     "metadata": {},
     "output_type": "display_data"
    }
   ],
   "source": [
    "# Gathering Data: Mengimpor dataset dari GitHub\n",
    "url_day = \"https://raw.githubusercontent.com/NaufalNurFahriza/data-analyst-python-dicoding/main/data/day.csv\"\n",
    "df_day = pd.read_csv(url_day)\n",
    "\n",
    "# Menampilkan 5 baris pertama dataset\n",
    "display(df_day.head())"
   ]
  },
  {
   "cell_type": "markdown",
   "metadata": {
    "id": "wIN4w54mJzOq"
   },
   "source": [
    "Mengimpor dataset dari file hour.csv"
   ]
  },
  {
   "cell_type": "code",
   "execution_count": 4,
   "metadata": {
    "colab": {
     "base_uri": "https://localhost:8080/",
     "height": 206
    },
    "id": "QUv2hOI6JyhH",
    "outputId": "e8f95ed0-83ed-47fd-b470-ecbd2443f1b6"
   },
   "outputs": [
    {
     "data": {
      "application/vnd.google.colaboratory.intrinsic+json": {
       "summary": "{\n  \"name\": \"display(df_hour\",\n  \"rows\": 5,\n  \"fields\": [\n    {\n      \"column\": \"instant\",\n      \"properties\": {\n        \"dtype\": \"number\",\n        \"std\": 1,\n        \"min\": 1,\n        \"max\": 5,\n        \"num_unique_values\": 5,\n        \"samples\": [\n          2,\n          5,\n          3\n        ],\n        \"semantic_type\": \"\",\n        \"description\": \"\"\n      }\n    },\n    {\n      \"column\": \"dteday\",\n      \"properties\": {\n        \"dtype\": \"object\",\n        \"num_unique_values\": 1,\n        \"samples\": [\n          \"2011-01-01\"\n        ],\n        \"semantic_type\": \"\",\n        \"description\": \"\"\n      }\n    },\n    {\n      \"column\": \"season\",\n      \"properties\": {\n        \"dtype\": \"number\",\n        \"std\": 0,\n        \"min\": 1,\n        \"max\": 1,\n        \"num_unique_values\": 1,\n        \"samples\": [\n          1\n        ],\n        \"semantic_type\": \"\",\n        \"description\": \"\"\n      }\n    },\n    {\n      \"column\": \"yr\",\n      \"properties\": {\n        \"dtype\": \"number\",\n        \"std\": 0,\n        \"min\": 0,\n        \"max\": 0,\n        \"num_unique_values\": 1,\n        \"samples\": [\n          0\n        ],\n        \"semantic_type\": \"\",\n        \"description\": \"\"\n      }\n    },\n    {\n      \"column\": \"mnth\",\n      \"properties\": {\n        \"dtype\": \"number\",\n        \"std\": 0,\n        \"min\": 1,\n        \"max\": 1,\n        \"num_unique_values\": 1,\n        \"samples\": [\n          1\n        ],\n        \"semantic_type\": \"\",\n        \"description\": \"\"\n      }\n    },\n    {\n      \"column\": \"hr\",\n      \"properties\": {\n        \"dtype\": \"number\",\n        \"std\": 1,\n        \"min\": 0,\n        \"max\": 4,\n        \"num_unique_values\": 5,\n        \"samples\": [\n          1\n        ],\n        \"semantic_type\": \"\",\n        \"description\": \"\"\n      }\n    },\n    {\n      \"column\": \"holiday\",\n      \"properties\": {\n        \"dtype\": \"number\",\n        \"std\": 0,\n        \"min\": 0,\n        \"max\": 0,\n        \"num_unique_values\": 1,\n        \"samples\": [\n          0\n        ],\n        \"semantic_type\": \"\",\n        \"description\": \"\"\n      }\n    },\n    {\n      \"column\": \"weekday\",\n      \"properties\": {\n        \"dtype\": \"number\",\n        \"std\": 0,\n        \"min\": 6,\n        \"max\": 6,\n        \"num_unique_values\": 1,\n        \"samples\": [\n          6\n        ],\n        \"semantic_type\": \"\",\n        \"description\": \"\"\n      }\n    },\n    {\n      \"column\": \"workingday\",\n      \"properties\": {\n        \"dtype\": \"number\",\n        \"std\": 0,\n        \"min\": 0,\n        \"max\": 0,\n        \"num_unique_values\": 1,\n        \"samples\": [\n          0\n        ],\n        \"semantic_type\": \"\",\n        \"description\": \"\"\n      }\n    },\n    {\n      \"column\": \"weathersit\",\n      \"properties\": {\n        \"dtype\": \"number\",\n        \"std\": 0,\n        \"min\": 1,\n        \"max\": 1,\n        \"num_unique_values\": 1,\n        \"samples\": [\n          1\n        ],\n        \"semantic_type\": \"\",\n        \"description\": \"\"\n      }\n    },\n    {\n      \"column\": \"temp\",\n      \"properties\": {\n        \"dtype\": \"number\",\n        \"std\": 0.010954451150103317,\n        \"min\": 0.22,\n        \"max\": 0.24,\n        \"num_unique_values\": 2,\n        \"samples\": [\n          0.22\n        ],\n        \"semantic_type\": \"\",\n        \"description\": \"\"\n      }\n    },\n    {\n      \"column\": \"atemp\",\n      \"properties\": {\n        \"dtype\": \"number\",\n        \"std\": 0.00832538287407852,\n        \"min\": 0.2727,\n        \"max\": 0.2879,\n        \"num_unique_values\": 2,\n        \"samples\": [\n          0.2727\n        ],\n        \"semantic_type\": \"\",\n        \"description\": \"\"\n      }\n    },\n    {\n      \"column\": \"hum\",\n      \"properties\": {\n        \"dtype\": \"number\",\n        \"std\": 0.029495762407505278,\n        \"min\": 0.75,\n        \"max\": 0.81,\n        \"num_unique_values\": 3,\n        \"samples\": [\n          0.81\n        ],\n        \"semantic_type\": \"\",\n        \"description\": \"\"\n      }\n    },\n    {\n      \"column\": \"windspeed\",\n      \"properties\": {\n        \"dtype\": \"number\",\n        \"std\": 0.0,\n        \"min\": 0.0,\n        \"max\": 0.0,\n        \"num_unique_values\": 1,\n        \"samples\": [\n          0.0\n        ],\n        \"semantic_type\": \"\",\n        \"description\": \"\"\n      }\n    },\n    {\n      \"column\": \"casual\",\n      \"properties\": {\n        \"dtype\": \"number\",\n        \"std\": 2,\n        \"min\": 0,\n        \"max\": 8,\n        \"num_unique_values\": 4,\n        \"samples\": [\n          8\n        ],\n        \"semantic_type\": \"\",\n        \"description\": \"\"\n      }\n    },\n    {\n      \"column\": \"registered\",\n      \"properties\": {\n        \"dtype\": \"number\",\n        \"std\": 12,\n        \"min\": 1,\n        \"max\": 32,\n        \"num_unique_values\": 5,\n        \"samples\": [\n          32\n        ],\n        \"semantic_type\": \"\",\n        \"description\": \"\"\n      }\n    },\n    {\n      \"column\": \"cnt\",\n      \"properties\": {\n        \"dtype\": \"number\",\n        \"std\": 15,\n        \"min\": 1,\n        \"max\": 40,\n        \"num_unique_values\": 5,\n        \"samples\": [\n          40\n        ],\n        \"semantic_type\": \"\",\n        \"description\": \"\"\n      }\n    }\n  ]\n}",
       "type": "dataframe"
      },
      "text/html": [
       "\n",
       "  <div id=\"df-b198a18f-d27e-48ab-bcb6-0d12b1a5c3d9\" class=\"colab-df-container\">\n",
       "    <div>\n",
       "<style scoped>\n",
       "    .dataframe tbody tr th:only-of-type {\n",
       "        vertical-align: middle;\n",
       "    }\n",
       "\n",
       "    .dataframe tbody tr th {\n",
       "        vertical-align: top;\n",
       "    }\n",
       "\n",
       "    .dataframe thead th {\n",
       "        text-align: right;\n",
       "    }\n",
       "</style>\n",
       "<table border=\"1\" class=\"dataframe\">\n",
       "  <thead>\n",
       "    <tr style=\"text-align: right;\">\n",
       "      <th></th>\n",
       "      <th>instant</th>\n",
       "      <th>dteday</th>\n",
       "      <th>season</th>\n",
       "      <th>yr</th>\n",
       "      <th>mnth</th>\n",
       "      <th>hr</th>\n",
       "      <th>holiday</th>\n",
       "      <th>weekday</th>\n",
       "      <th>workingday</th>\n",
       "      <th>weathersit</th>\n",
       "      <th>temp</th>\n",
       "      <th>atemp</th>\n",
       "      <th>hum</th>\n",
       "      <th>windspeed</th>\n",
       "      <th>casual</th>\n",
       "      <th>registered</th>\n",
       "      <th>cnt</th>\n",
       "    </tr>\n",
       "  </thead>\n",
       "  <tbody>\n",
       "    <tr>\n",
       "      <th>0</th>\n",
       "      <td>1</td>\n",
       "      <td>2011-01-01</td>\n",
       "      <td>1</td>\n",
       "      <td>0</td>\n",
       "      <td>1</td>\n",
       "      <td>0</td>\n",
       "      <td>0</td>\n",
       "      <td>6</td>\n",
       "      <td>0</td>\n",
       "      <td>1</td>\n",
       "      <td>0.24</td>\n",
       "      <td>0.2879</td>\n",
       "      <td>0.81</td>\n",
       "      <td>0.0</td>\n",
       "      <td>3</td>\n",
       "      <td>13</td>\n",
       "      <td>16</td>\n",
       "    </tr>\n",
       "    <tr>\n",
       "      <th>1</th>\n",
       "      <td>2</td>\n",
       "      <td>2011-01-01</td>\n",
       "      <td>1</td>\n",
       "      <td>0</td>\n",
       "      <td>1</td>\n",
       "      <td>1</td>\n",
       "      <td>0</td>\n",
       "      <td>6</td>\n",
       "      <td>0</td>\n",
       "      <td>1</td>\n",
       "      <td>0.22</td>\n",
       "      <td>0.2727</td>\n",
       "      <td>0.80</td>\n",
       "      <td>0.0</td>\n",
       "      <td>8</td>\n",
       "      <td>32</td>\n",
       "      <td>40</td>\n",
       "    </tr>\n",
       "    <tr>\n",
       "      <th>2</th>\n",
       "      <td>3</td>\n",
       "      <td>2011-01-01</td>\n",
       "      <td>1</td>\n",
       "      <td>0</td>\n",
       "      <td>1</td>\n",
       "      <td>2</td>\n",
       "      <td>0</td>\n",
       "      <td>6</td>\n",
       "      <td>0</td>\n",
       "      <td>1</td>\n",
       "      <td>0.22</td>\n",
       "      <td>0.2727</td>\n",
       "      <td>0.80</td>\n",
       "      <td>0.0</td>\n",
       "      <td>5</td>\n",
       "      <td>27</td>\n",
       "      <td>32</td>\n",
       "    </tr>\n",
       "    <tr>\n",
       "      <th>3</th>\n",
       "      <td>4</td>\n",
       "      <td>2011-01-01</td>\n",
       "      <td>1</td>\n",
       "      <td>0</td>\n",
       "      <td>1</td>\n",
       "      <td>3</td>\n",
       "      <td>0</td>\n",
       "      <td>6</td>\n",
       "      <td>0</td>\n",
       "      <td>1</td>\n",
       "      <td>0.24</td>\n",
       "      <td>0.2879</td>\n",
       "      <td>0.75</td>\n",
       "      <td>0.0</td>\n",
       "      <td>3</td>\n",
       "      <td>10</td>\n",
       "      <td>13</td>\n",
       "    </tr>\n",
       "    <tr>\n",
       "      <th>4</th>\n",
       "      <td>5</td>\n",
       "      <td>2011-01-01</td>\n",
       "      <td>1</td>\n",
       "      <td>0</td>\n",
       "      <td>1</td>\n",
       "      <td>4</td>\n",
       "      <td>0</td>\n",
       "      <td>6</td>\n",
       "      <td>0</td>\n",
       "      <td>1</td>\n",
       "      <td>0.24</td>\n",
       "      <td>0.2879</td>\n",
       "      <td>0.75</td>\n",
       "      <td>0.0</td>\n",
       "      <td>0</td>\n",
       "      <td>1</td>\n",
       "      <td>1</td>\n",
       "    </tr>\n",
       "  </tbody>\n",
       "</table>\n",
       "</div>\n",
       "    <div class=\"colab-df-buttons\">\n",
       "\n",
       "  <div class=\"colab-df-container\">\n",
       "    <button class=\"colab-df-convert\" onclick=\"convertToInteractive('df-b198a18f-d27e-48ab-bcb6-0d12b1a5c3d9')\"\n",
       "            title=\"Convert this dataframe to an interactive table.\"\n",
       "            style=\"display:none;\">\n",
       "\n",
       "  <svg xmlns=\"http://www.w3.org/2000/svg\" height=\"24px\" viewBox=\"0 -960 960 960\">\n",
       "    <path d=\"M120-120v-720h720v720H120Zm60-500h600v-160H180v160Zm220 220h160v-160H400v160Zm0 220h160v-160H400v160ZM180-400h160v-160H180v160Zm440 0h160v-160H620v160ZM180-180h160v-160H180v160Zm440 0h160v-160H620v160Z\"/>\n",
       "  </svg>\n",
       "    </button>\n",
       "\n",
       "  <style>\n",
       "    .colab-df-container {\n",
       "      display:flex;\n",
       "      gap: 12px;\n",
       "    }\n",
       "\n",
       "    .colab-df-convert {\n",
       "      background-color: #E8F0FE;\n",
       "      border: none;\n",
       "      border-radius: 50%;\n",
       "      cursor: pointer;\n",
       "      display: none;\n",
       "      fill: #1967D2;\n",
       "      height: 32px;\n",
       "      padding: 0 0 0 0;\n",
       "      width: 32px;\n",
       "    }\n",
       "\n",
       "    .colab-df-convert:hover {\n",
       "      background-color: #E2EBFA;\n",
       "      box-shadow: 0px 1px 2px rgba(60, 64, 67, 0.3), 0px 1px 3px 1px rgba(60, 64, 67, 0.15);\n",
       "      fill: #174EA6;\n",
       "    }\n",
       "\n",
       "    .colab-df-buttons div {\n",
       "      margin-bottom: 4px;\n",
       "    }\n",
       "\n",
       "    [theme=dark] .colab-df-convert {\n",
       "      background-color: #3B4455;\n",
       "      fill: #D2E3FC;\n",
       "    }\n",
       "\n",
       "    [theme=dark] .colab-df-convert:hover {\n",
       "      background-color: #434B5C;\n",
       "      box-shadow: 0px 1px 3px 1px rgba(0, 0, 0, 0.15);\n",
       "      filter: drop-shadow(0px 1px 2px rgba(0, 0, 0, 0.3));\n",
       "      fill: #FFFFFF;\n",
       "    }\n",
       "  </style>\n",
       "\n",
       "    <script>\n",
       "      const buttonEl =\n",
       "        document.querySelector('#df-b198a18f-d27e-48ab-bcb6-0d12b1a5c3d9 button.colab-df-convert');\n",
       "      buttonEl.style.display =\n",
       "        google.colab.kernel.accessAllowed ? 'block' : 'none';\n",
       "\n",
       "      async function convertToInteractive(key) {\n",
       "        const element = document.querySelector('#df-b198a18f-d27e-48ab-bcb6-0d12b1a5c3d9');\n",
       "        const dataTable =\n",
       "          await google.colab.kernel.invokeFunction('convertToInteractive',\n",
       "                                                    [key], {});\n",
       "        if (!dataTable) return;\n",
       "\n",
       "        const docLinkHtml = 'Like what you see? Visit the ' +\n",
       "          '<a target=\"_blank\" href=https://colab.research.google.com/notebooks/data_table.ipynb>data table notebook</a>'\n",
       "          + ' to learn more about interactive tables.';\n",
       "        element.innerHTML = '';\n",
       "        dataTable['output_type'] = 'display_data';\n",
       "        await google.colab.output.renderOutput(dataTable, element);\n",
       "        const docLink = document.createElement('div');\n",
       "        docLink.innerHTML = docLinkHtml;\n",
       "        element.appendChild(docLink);\n",
       "      }\n",
       "    </script>\n",
       "  </div>\n",
       "\n",
       "\n",
       "<div id=\"df-c1ad5224-bad0-4cb3-af6a-1c2a1dfb0b22\">\n",
       "  <button class=\"colab-df-quickchart\" onclick=\"quickchart('df-c1ad5224-bad0-4cb3-af6a-1c2a1dfb0b22')\"\n",
       "            title=\"Suggest charts\"\n",
       "            style=\"display:none;\">\n",
       "\n",
       "<svg xmlns=\"http://www.w3.org/2000/svg\" height=\"24px\"viewBox=\"0 0 24 24\"\n",
       "     width=\"24px\">\n",
       "    <g>\n",
       "        <path d=\"M19 3H5c-1.1 0-2 .9-2 2v14c0 1.1.9 2 2 2h14c1.1 0 2-.9 2-2V5c0-1.1-.9-2-2-2zM9 17H7v-7h2v7zm4 0h-2V7h2v10zm4 0h-2v-4h2v4z\"/>\n",
       "    </g>\n",
       "</svg>\n",
       "  </button>\n",
       "\n",
       "<style>\n",
       "  .colab-df-quickchart {\n",
       "      --bg-color: #E8F0FE;\n",
       "      --fill-color: #1967D2;\n",
       "      --hover-bg-color: #E2EBFA;\n",
       "      --hover-fill-color: #174EA6;\n",
       "      --disabled-fill-color: #AAA;\n",
       "      --disabled-bg-color: #DDD;\n",
       "  }\n",
       "\n",
       "  [theme=dark] .colab-df-quickchart {\n",
       "      --bg-color: #3B4455;\n",
       "      --fill-color: #D2E3FC;\n",
       "      --hover-bg-color: #434B5C;\n",
       "      --hover-fill-color: #FFFFFF;\n",
       "      --disabled-bg-color: #3B4455;\n",
       "      --disabled-fill-color: #666;\n",
       "  }\n",
       "\n",
       "  .colab-df-quickchart {\n",
       "    background-color: var(--bg-color);\n",
       "    border: none;\n",
       "    border-radius: 50%;\n",
       "    cursor: pointer;\n",
       "    display: none;\n",
       "    fill: var(--fill-color);\n",
       "    height: 32px;\n",
       "    padding: 0;\n",
       "    width: 32px;\n",
       "  }\n",
       "\n",
       "  .colab-df-quickchart:hover {\n",
       "    background-color: var(--hover-bg-color);\n",
       "    box-shadow: 0 1px 2px rgba(60, 64, 67, 0.3), 0 1px 3px 1px rgba(60, 64, 67, 0.15);\n",
       "    fill: var(--button-hover-fill-color);\n",
       "  }\n",
       "\n",
       "  .colab-df-quickchart-complete:disabled,\n",
       "  .colab-df-quickchart-complete:disabled:hover {\n",
       "    background-color: var(--disabled-bg-color);\n",
       "    fill: var(--disabled-fill-color);\n",
       "    box-shadow: none;\n",
       "  }\n",
       "\n",
       "  .colab-df-spinner {\n",
       "    border: 2px solid var(--fill-color);\n",
       "    border-color: transparent;\n",
       "    border-bottom-color: var(--fill-color);\n",
       "    animation:\n",
       "      spin 1s steps(1) infinite;\n",
       "  }\n",
       "\n",
       "  @keyframes spin {\n",
       "    0% {\n",
       "      border-color: transparent;\n",
       "      border-bottom-color: var(--fill-color);\n",
       "      border-left-color: var(--fill-color);\n",
       "    }\n",
       "    20% {\n",
       "      border-color: transparent;\n",
       "      border-left-color: var(--fill-color);\n",
       "      border-top-color: var(--fill-color);\n",
       "    }\n",
       "    30% {\n",
       "      border-color: transparent;\n",
       "      border-left-color: var(--fill-color);\n",
       "      border-top-color: var(--fill-color);\n",
       "      border-right-color: var(--fill-color);\n",
       "    }\n",
       "    40% {\n",
       "      border-color: transparent;\n",
       "      border-right-color: var(--fill-color);\n",
       "      border-top-color: var(--fill-color);\n",
       "    }\n",
       "    60% {\n",
       "      border-color: transparent;\n",
       "      border-right-color: var(--fill-color);\n",
       "    }\n",
       "    80% {\n",
       "      border-color: transparent;\n",
       "      border-right-color: var(--fill-color);\n",
       "      border-bottom-color: var(--fill-color);\n",
       "    }\n",
       "    90% {\n",
       "      border-color: transparent;\n",
       "      border-bottom-color: var(--fill-color);\n",
       "    }\n",
       "  }\n",
       "</style>\n",
       "\n",
       "  <script>\n",
       "    async function quickchart(key) {\n",
       "      const quickchartButtonEl =\n",
       "        document.querySelector('#' + key + ' button');\n",
       "      quickchartButtonEl.disabled = true;  // To prevent multiple clicks.\n",
       "      quickchartButtonEl.classList.add('colab-df-spinner');\n",
       "      try {\n",
       "        const charts = await google.colab.kernel.invokeFunction(\n",
       "            'suggestCharts', [key], {});\n",
       "      } catch (error) {\n",
       "        console.error('Error during call to suggestCharts:', error);\n",
       "      }\n",
       "      quickchartButtonEl.classList.remove('colab-df-spinner');\n",
       "      quickchartButtonEl.classList.add('colab-df-quickchart-complete');\n",
       "    }\n",
       "    (() => {\n",
       "      let quickchartButtonEl =\n",
       "        document.querySelector('#df-c1ad5224-bad0-4cb3-af6a-1c2a1dfb0b22 button');\n",
       "      quickchartButtonEl.style.display =\n",
       "        google.colab.kernel.accessAllowed ? 'block' : 'none';\n",
       "    })();\n",
       "  </script>\n",
       "</div>\n",
       "\n",
       "    </div>\n",
       "  </div>\n"
      ],
      "text/plain": [
       "   instant      dteday  season  yr  mnth  hr  holiday  weekday  workingday  \\\n",
       "0        1  2011-01-01       1   0     1   0        0        6           0   \n",
       "1        2  2011-01-01       1   0     1   1        0        6           0   \n",
       "2        3  2011-01-01       1   0     1   2        0        6           0   \n",
       "3        4  2011-01-01       1   0     1   3        0        6           0   \n",
       "4        5  2011-01-01       1   0     1   4        0        6           0   \n",
       "\n",
       "   weathersit  temp   atemp   hum  windspeed  casual  registered  cnt  \n",
       "0           1  0.24  0.2879  0.81        0.0       3          13   16  \n",
       "1           1  0.22  0.2727  0.80        0.0       8          32   40  \n",
       "2           1  0.22  0.2727  0.80        0.0       5          27   32  \n",
       "3           1  0.24  0.2879  0.75        0.0       3          10   13  \n",
       "4           1  0.24  0.2879  0.75        0.0       0           1    1  "
      ]
     },
     "metadata": {},
     "output_type": "display_data"
    }
   ],
   "source": [
    "url_hour = \"https://raw.githubusercontent.com/NaufalNurFahriza/data-analyst-python-dicoding/main/data/hour.csv\"\n",
    "df_hour = pd.read_csv(url_hour)\n",
    "\n",
    "# Menampilkan 5 baris pertama dataset\n",
    "display(df_hour.head())"
   ]
  },
  {
   "cell_type": "markdown",
   "metadata": {
    "id": "oStNWLJ3b5z1"
   },
   "source": []
  },
  {
   "cell_type": "markdown",
   "metadata": {
    "id": "vzuT11Aob6Rq"
   },
   "source": [
    "**Insight:**\n",
    "- Dataset day.csv berisi data agregat harian dari penyewaan sepeda dengan total 731 baris data\n",
    "- Dataset hour.csv berisi data yang lebih terperinci dengan pembagian per jam dengan total 17,379 baris data\n",
    "- Kedua dataset berisi informasi penting seperti tanggal, jam, musim, suhu, dan jumlah penyewaan yang terbagi menjadi pengguna biasa (casual) dan terdaftar (registered)"
   ]
  },
  {
   "cell_type": "markdown",
   "metadata": {
    "id": "FHSiqaZp8DC1"
   },
   "source": [
    "### Assessing Data"
   ]
  },
  {
   "cell_type": "code",
   "execution_count": 5,
   "metadata": {
    "colab": {
     "base_uri": "https://localhost:8080/"
    },
    "id": "ax-3tEjc9Cj1",
    "outputId": "949f080f-f868-455e-b45a-f8015d0b0fef"
   },
   "outputs": [
    {
     "name": "stdout",
     "output_type": "stream",
     "text": [
      "\n",
      "Informasi dataset harian:\n",
      "<class 'pandas.core.frame.DataFrame'>\n",
      "RangeIndex: 731 entries, 0 to 730\n",
      "Data columns (total 16 columns):\n",
      " #   Column      Non-Null Count  Dtype  \n",
      "---  ------      --------------  -----  \n",
      " 0   instant     731 non-null    int64  \n",
      " 1   dteday      731 non-null    object \n",
      " 2   season      731 non-null    int64  \n",
      " 3   yr          731 non-null    int64  \n",
      " 4   mnth        731 non-null    int64  \n",
      " 5   holiday     731 non-null    int64  \n",
      " 6   weekday     731 non-null    int64  \n",
      " 7   workingday  731 non-null    int64  \n",
      " 8   weathersit  731 non-null    int64  \n",
      " 9   temp        731 non-null    float64\n",
      " 10  atemp       731 non-null    float64\n",
      " 11  hum         731 non-null    float64\n",
      " 12  windspeed   731 non-null    float64\n",
      " 13  casual      731 non-null    int64  \n",
      " 14  registered  731 non-null    int64  \n",
      " 15  cnt         731 non-null    int64  \n",
      "dtypes: float64(4), int64(11), object(1)\n",
      "memory usage: 91.5+ KB\n",
      "None\n",
      "\n",
      "Informasi dataset per jam:\n",
      "<class 'pandas.core.frame.DataFrame'>\n",
      "RangeIndex: 17379 entries, 0 to 17378\n",
      "Data columns (total 17 columns):\n",
      " #   Column      Non-Null Count  Dtype  \n",
      "---  ------      --------------  -----  \n",
      " 0   instant     17379 non-null  int64  \n",
      " 1   dteday      17379 non-null  object \n",
      " 2   season      17379 non-null  int64  \n",
      " 3   yr          17379 non-null  int64  \n",
      " 4   mnth        17379 non-null  int64  \n",
      " 5   hr          17379 non-null  int64  \n",
      " 6   holiday     17379 non-null  int64  \n",
      " 7   weekday     17379 non-null  int64  \n",
      " 8   workingday  17379 non-null  int64  \n",
      " 9   weathersit  17379 non-null  int64  \n",
      " 10  temp        17379 non-null  float64\n",
      " 11  atemp       17379 non-null  float64\n",
      " 12  hum         17379 non-null  float64\n",
      " 13  windspeed   17379 non-null  float64\n",
      " 14  casual      17379 non-null  int64  \n",
      " 15  registered  17379 non-null  int64  \n",
      " 16  cnt         17379 non-null  int64  \n",
      "dtypes: float64(4), int64(12), object(1)\n",
      "memory usage: 2.3+ MB\n",
      "None\n"
     ]
    }
   ],
   "source": [
    "# Memeriksa informasi dataset\n",
    "print(\"\\nInformasi dataset harian:\")\n",
    "df_day.info()\n",
    "print(\"\\nInformasi dataset per jam:\")\n",
    "df_hour.info()"
   ]
  },
  {
   "cell_type": "code",
   "execution_count": null,
   "metadata": {
    "id": "akf9FLzulFmH"
   },
   "outputs": [],
   "source": [
    "# Memeriksa informasi dataset\n",
    "print(\"\\nInformasi Dataset Harian:\")\n",
    "df_day.info()\n",
    "print(\"\\nInformasi Dataset Per Jam:\")\n",
    "df_hour.info()"
   ]
  },
  {
   "cell_type": "code",
   "execution_count": 6,
   "metadata": {
    "colab": {
     "base_uri": "https://localhost:8080/"
    },
    "id": "STZvc2y5cQDO",
    "outputId": "e57de655-3885-44ea-9387-bf298f6dc9e1"
   },
   "outputs": [
    {
     "name": "stdout",
     "output_type": "stream",
     "text": [
      "\n",
      "Statistik deskriptif dataset harian:\n",
      "          instant      season          yr        mnth     holiday     weekday  \\\n",
      "count  731.000000  731.000000  731.000000  731.000000  731.000000  731.000000   \n",
      "mean   366.000000    2.496580    0.500684    6.519836    0.028728    2.997264   \n",
      "std    211.165812    1.110807    0.500342    3.451913    0.167155    2.004787   \n",
      "min      1.000000    1.000000    0.000000    1.000000    0.000000    0.000000   \n",
      "25%    183.500000    2.000000    0.000000    4.000000    0.000000    1.000000   \n",
      "50%    366.000000    3.000000    1.000000    7.000000    0.000000    3.000000   \n",
      "75%    548.500000    3.000000    1.000000   10.000000    0.000000    5.000000   \n",
      "max    731.000000    4.000000    1.000000   12.000000    1.000000    6.000000   \n",
      "\n",
      "       workingday  weathersit        temp       atemp         hum   windspeed  \\\n",
      "count  731.000000  731.000000  731.000000  731.000000  731.000000  731.000000   \n",
      "mean     0.683995    1.395349    0.495385    0.474354    0.627894    0.190486   \n",
      "std      0.465233    0.544894    0.183051    0.162961    0.142429    0.077498   \n",
      "min      0.000000    1.000000    0.059130    0.079070    0.000000    0.022392   \n",
      "25%      0.000000    1.000000    0.337083    0.337842    0.520000    0.134950   \n",
      "50%      1.000000    1.000000    0.498333    0.486733    0.626667    0.180975   \n",
      "75%      1.000000    2.000000    0.655417    0.608602    0.730209    0.233214   \n",
      "max      1.000000    3.000000    0.861667    0.840896    0.972500    0.507463   \n",
      "\n",
      "            casual   registered          cnt  \n",
      "count   731.000000   731.000000   731.000000  \n",
      "mean    848.176471  3656.172367  4504.348837  \n",
      "std     686.622488  1560.256377  1937.211452  \n",
      "min       2.000000    20.000000    22.000000  \n",
      "25%     315.500000  2497.000000  3152.000000  \n",
      "50%     713.000000  3662.000000  4548.000000  \n",
      "75%    1096.000000  4776.500000  5956.000000  \n",
      "max    3410.000000  6946.000000  8714.000000  \n",
      "\n",
      "Statistik deskriptif dataset per jam:\n",
      "          instant        season            yr          mnth            hr  \\\n",
      "count  17379.0000  17379.000000  17379.000000  17379.000000  17379.000000   \n",
      "mean    8690.0000      2.501640      0.502561      6.537775     11.546752   \n",
      "std     5017.0295      1.106918      0.500008      3.438776      6.914405   \n",
      "min        1.0000      1.000000      0.000000      1.000000      0.000000   \n",
      "25%     4345.5000      2.000000      0.000000      4.000000      6.000000   \n",
      "50%     8690.0000      3.000000      1.000000      7.000000     12.000000   \n",
      "75%    13034.5000      3.000000      1.000000     10.000000     18.000000   \n",
      "max    17379.0000      4.000000      1.000000     12.000000     23.000000   \n",
      "\n",
      "            holiday       weekday    workingday    weathersit          temp  \\\n",
      "count  17379.000000  17379.000000  17379.000000  17379.000000  17379.000000   \n",
      "mean       0.028770      3.003683      0.682721      1.425283      0.496987   \n",
      "std        0.167165      2.005771      0.465431      0.639357      0.192556   \n",
      "min        0.000000      0.000000      0.000000      1.000000      0.020000   \n",
      "25%        0.000000      1.000000      0.000000      1.000000      0.340000   \n",
      "50%        0.000000      3.000000      1.000000      1.000000      0.500000   \n",
      "75%        0.000000      5.000000      1.000000      2.000000      0.660000   \n",
      "max        1.000000      6.000000      1.000000      4.000000      1.000000   \n",
      "\n",
      "              atemp           hum     windspeed        casual    registered  \\\n",
      "count  17379.000000  17379.000000  17379.000000  17379.000000  17379.000000   \n",
      "mean       0.475775      0.627229      0.190098     35.676218    153.786869   \n",
      "std        0.171850      0.192930      0.122340     49.305030    151.357286   \n",
      "min        0.000000      0.000000      0.000000      0.000000      0.000000   \n",
      "25%        0.333300      0.480000      0.104500      4.000000     34.000000   \n",
      "50%        0.484800      0.630000      0.194000     17.000000    115.000000   \n",
      "75%        0.621200      0.780000      0.253700     48.000000    220.000000   \n",
      "max        1.000000      1.000000      0.850700    367.000000    886.000000   \n",
      "\n",
      "                cnt  \n",
      "count  17379.000000  \n",
      "mean     189.463088  \n",
      "std      181.387599  \n",
      "min        1.000000  \n",
      "25%       40.000000  \n",
      "50%      142.000000  \n",
      "75%      281.000000  \n",
      "max      977.000000  \n"
     ]
    }
   ],
   "source": [
    "# Memeriksa statistik deskriptif\n",
    "print(\"\\nStatistik deskriptif dataset harian:\")\n",
    "print(df_day.describe())\n",
    "print(\"\\nStatistik deskriptif dataset per jam:\")\n",
    "print(df_hour.describe())"
   ]
  },
  {
   "cell_type": "code",
   "execution_count": 7,
   "metadata": {
    "colab": {
     "base_uri": "https://localhost:8080/"
    },
    "id": "jVnYpprE9Evz",
    "outputId": "b1e0197e-2276-4170-88d7-7eb7305344ca"
   },
   "outputs": [
    {
     "name": "stdout",
     "output_type": "stream",
     "text": [
      "\n",
      "Cek nilai yang hilang pada dataset harian:\n",
      "instant       0\n",
      "dteday        0\n",
      "season        0\n",
      "yr            0\n",
      "mnth          0\n",
      "holiday       0\n",
      "weekday       0\n",
      "workingday    0\n",
      "weathersit    0\n",
      "temp          0\n",
      "atemp         0\n",
      "hum           0\n",
      "windspeed     0\n",
      "casual        0\n",
      "registered    0\n",
      "cnt           0\n",
      "dtype: int64\n",
      "\n",
      "Cek nilai yang hilang pada dataset per jam:\n",
      "instant       0\n",
      "dteday        0\n",
      "season        0\n",
      "yr            0\n",
      "mnth          0\n",
      "hr            0\n",
      "holiday       0\n",
      "weekday       0\n",
      "workingday    0\n",
      "weathersit    0\n",
      "temp          0\n",
      "atemp         0\n",
      "hum           0\n",
      "windspeed     0\n",
      "casual        0\n",
      "registered    0\n",
      "cnt           0\n",
      "dtype: int64\n"
     ]
    }
   ],
   "source": [
    "# Cek missing values\n",
    "print(\"\\nCek nilai yang hilang pada dataset harian:\")\n",
    "print(df_day.isnull().sum())\n",
    "print(\"\\nCek nilai yang hilang pada dataset per jam:\")\n",
    "print(df_hour.isnull().sum())"
   ]
  },
  {
   "cell_type": "code",
   "execution_count": 8,
   "metadata": {
    "colab": {
     "base_uri": "https://localhost:8080/"
    },
    "id": "j6ywCCAdSmFI",
    "outputId": "f6856718-577c-4078-b5b0-ff81faf33139"
   },
   "outputs": [
    {
     "name": "stdout",
     "output_type": "stream",
     "text": [
      "\n",
      "Cek duplikat pada dataset harian:\n",
      "0\n",
      "\n",
      "Cek duplikat pada dataset per jam:\n",
      "0\n"
     ]
    }
   ],
   "source": [
    "# Cek data duplikat\n",
    "print(\"\\nCek duplikat pada dataset harian:\")\n",
    "print(df_day.duplicated().sum())\n",
    "print(\"\\nCek duplikat pada dataset per jam:\")\n",
    "print(df_hour.duplicated().sum())"
   ]
  },
  {
   "cell_type": "markdown",
   "metadata": {
    "id": "7axfYJJ8cesr"
   },
   "source": [
    "**Insight:**\n",
    "- Tidak ada nilai yang hilang pada kedua dataset\n",
    "- Tidak ada duplikat pada kedua dataset\n",
    "- Kolom 'dteday' perlu diubah ke format datetime untuk analisis temporal\n",
    "- Beberapa kolom seperti 'season', 'yr', 'mnth', 'holiday', 'weekday', 'workingday' dan 'weathersit' bersifat kategorikal\n",
    "- Kolom 'hr' pada dataset hour.csv berisi nilai 0-23 yang menunjukkan jam dalam sehari\n",
    "- Kolom 'temp', 'atemp', 'hum', dan 'windspeed' sudah dinormalisasi"
   ]
  },
  {
   "cell_type": "markdown",
   "metadata": {
    "id": "EhN5R4hr8DC1"
   },
   "source": [
    "### Cleaning Data"
   ]
  },
  {
   "cell_type": "code",
   "execution_count": 15,
   "metadata": {
    "colab": {
     "base_uri": "https://localhost:8080/"
    },
    "id": "il1U6cWec3H0",
    "outputId": "30fe057e-5058-4032-8746-ec37da6ce6a9"
   },
   "outputs": [
    {
     "name": "stdout",
     "output_type": "stream",
     "text": [
      "\n",
      "Hasil cleaning dataset harian:\n",
      "      dteday  season season_label  weathersit weather_label  workingday  \\\n",
      "0 2011-01-01       1       Winter           2          Mist           0   \n",
      "1 2011-01-02       1       Winter           2          Mist           0   \n",
      "2 2011-01-03       1       Winter           1         Clear           1   \n",
      "3 2011-01-04       1       Winter           1         Clear           1   \n",
      "4 2011-01-05       1       Winter           1         Clear           1   \n",
      "\n",
      "          day_type  \n",
      "0  Weekend/Holiday  \n",
      "1  Weekend/Holiday  \n",
      "2      Working Day  \n",
      "3      Working Day  \n",
      "4      Working Day  \n",
      "\n",
      "Hasil cleaning dataset per jam:\n",
      "      dteday  hr hour_formatted time_of_day season_label         day_type\n",
      "0 2011-01-01   0          00:00       Night       Winter  Weekend/Holiday\n",
      "1 2011-01-01   1          01:00       Night       Winter  Weekend/Holiday\n",
      "2 2011-01-01   2          02:00       Night       Winter  Weekend/Holiday\n",
      "3 2011-01-01   3          03:00       Night       Winter  Weekend/Holiday\n",
      "4 2011-01-01   4          04:00       Night       Winter  Weekend/Holiday\n"
     ]
    }
   ],
   "source": [
    "# Mengubah tipe data kolom 'dteday' ke datetime\n",
    "df_day['dteday'] = pd.to_datetime(df_day['dteday'])\n",
    "df_hour['dteday'] = pd.to_datetime(df_hour['dteday'])\n",
    "\n",
    "# Membuat kolom baru untuk bulan dan tahun\n",
    "df_day['month'] = df_day['dteday'].dt.month_name()\n",
    "df_day['year'] = df_day['dteday'].dt.year\n",
    "df_hour['month'] = df_hour['dteday'].dt.month_name()\n",
    "df_hour['year'] = df_hour['dteday'].dt.year\n",
    "\n",
    "# Memetakan nilai numerik ke dalam kategori\n",
    "season_mapping = {1: 'Winter', 2: 'Spring', 3: 'Summer', 4: 'Fall'}\n",
    "weather_mapping = {1: 'Clear', 2: 'Mist', 3: 'Light Snow/Rain', 4: 'Heavy Rain/Snow'}\n",
    "weekday_mapping = {0: 'Sunday', 1: 'Monday', 2: 'Tuesday', 3: 'Wednesday', 4: 'Thursday', 5: 'Friday', 6: 'Saturday'}\n",
    "\n",
    "df_day['season_label'] = df_day['season'].map(season_mapping)\n",
    "df_day['weather_label'] = df_day['weathersit'].map(weather_mapping)\n",
    "df_day['weekday_label'] = df_day['weekday'].map(weekday_mapping)\n",
    "\n",
    "df_hour['season_label'] = df_hour['season'].map(season_mapping)\n",
    "df_hour['weather_label'] = df_hour['weathersit'].map(weather_mapping)\n",
    "df_hour['weekday_label'] = df_hour['weekday'].map(weekday_mapping)\n",
    "\n",
    "# Mengubah kolom 'workingday' menjadi lebih deskriptif\n",
    "df_day['day_type'] = df_day['workingday'].map({0: 'Weekend/Holiday', 1: 'Working Day'})\n",
    "df_hour['day_type'] = df_hour['workingday'].map({0: 'Weekend/Holiday', 1: 'Working Day'})\n",
    "\n",
    "# Menambahkan kolom kategori waktu dalam sehari\n",
    "time_category = {\n",
    "    0: 'Night', 1: 'Night', 2: 'Night', 3: 'Night', 4: 'Night', 5: 'Night',\n",
    "    6: 'Morning', 7: 'Morning', 8: 'Morning', 9: 'Morning', 10: 'Morning', 11: 'Morning',\n",
    "    12: 'Afternoon', 13: 'Afternoon', 14: 'Afternoon', 15: 'Afternoon', 16: 'Afternoon', 17: 'Afternoon',\n",
    "    18: 'Evening', 19: 'Evening', 20: 'Evening', 21: 'Evening', 22: 'Evening', 23: 'Evening'\n",
    "}\n",
    "df_hour['time_of_day'] = df_hour['hr'].map(time_category)\n",
    "\n",
    "# Menambahkan kolom jam dalam format 24 jam\n",
    "df_hour['hour_formatted'] = df_hour['hr'].apply(lambda x: f\"{x:02d}:00\")\n",
    "\n",
    "# Menampilkan hasil cleaning\n",
    "print(\"\\nHasil Cleaning Dataset Harian:\")\n",
    "display(df_day[['dteday', 'season_label', 'weather_label', 'day_type']].head())\n",
    "print(\"\\nHasil Cleaning Dataset Per Jam:\")\n",
    "display(df_hour[['dteday', 'hour_formatted', 'time_of_day', 'day_type']].head())"
   ]
  },
  {
   "cell_type": "markdown",
   "metadata": {
    "id": "mpOZw-KAdV_I"
   },
   "source": [
    "**Insight:**\n",
    "- Data telah diubah ke format yang lebih mudah diinterpretasi dengan label deskriptif\n",
    "- Penambahan kolom 'time_of_day' memudahkan analisis berdasarkan kategori waktu dalam sehari\n",
    "- Format datetime memungkinkan analisis berdasarkan bulan, tahun, dan hari dalam seminggu\n",
    "- Kedua dataset siap untuk analisis lebih lanjut"
   ]
  },
  {
   "cell_type": "markdown",
   "metadata": {
    "id": "gp-Y6wU38DC1"
   },
   "source": [
    "## Exploratory Data Analysis (EDA)"
   ]
  },
  {
   "cell_type": "markdown",
   "metadata": {
    "id": "MW7WF2kr8DC1"
   },
   "source": [
    "### Explore ..."
   ]
  },
  {
   "cell_type": "code",
   "execution_count": 16,
   "metadata": {
    "colab": {
     "base_uri": "https://localhost:8080/"
    },
    "id": "e9CQCZjk8DC2",
    "outputId": "61663b27-e671-4bab-9a1a-debddd80dc78"
   },
   "outputs": [
    {
     "name": "stdout",
     "output_type": "stream",
     "text": [
      "\n",
      "Rata-rata penyewaan sepeda per jam:\n",
      "    hr         cnt\n",
      "17  17  461.452055\n",
      "18  18  425.510989\n",
      "8    8  359.011004\n",
      "16  16  311.983562\n",
      "19  19  311.523352\n",
      "   hr        cnt\n",
      "4   4   6.352941\n",
      "3   3  11.727403\n",
      "5   5  19.889819\n",
      "2   2  22.869930\n",
      "1   1  33.375691\n",
      "\n",
      "Rata-rata penyewaan berdasarkan kategori waktu:\n",
      "  time_of_day         cnt\n",
      "0   Afternoon  295.483886\n",
      "1     Evening  225.757555\n",
      "2     Morning  208.100688\n",
      "3       Night   24.908559\n",
      "\n",
      "Rata-rata penyewaan per jam berdasarkan tipe hari:\n",
      "day_type  Weekend/Holiday  Working Day\n",
      "hr                                    \n",
      "0               90.800000    36.786290\n",
      "1               69.508696    16.552632\n",
      "2               53.171053     8.683778\n",
      "3               25.775330     4.942553\n",
      "4                8.264317     5.429787\n"
     ]
    }
   ],
   "source": [
    "# Untuk pertanyaan 1: Pada jam berapa penyewaan sepeda yang paling banyak dan paling sedikit?\n",
    "hourly_rentals = df_hour.groupby('hr')['cnt'].mean().reset_index()\n",
    "print(\"\\nRata-rata penyewaan sepeda per jam:\")\n",
    "print(hourly_rentals.sort_values('cnt', ascending=False).head())\n",
    "print(hourly_rentals.sort_values('cnt', ascending=True).head())\n",
    "\n",
    "# Rata-rata penyewaan berdasarkan kategori waktu\n",
    "time_of_day_rentals = df_hour.groupby('time_of_day')['cnt'].mean().reset_index()\n",
    "print(\"\\nRata-rata penyewaan berdasarkan kategori waktu:\")\n",
    "print(time_of_day_rentals.sort_values('cnt', ascending=False))\n",
    "\n",
    "# Pola penggunaan sepeda berdasarkan hari kerja vs akhir pekan\n",
    "workday_hourly = df_hour.groupby(['hr', 'day_type'])['cnt'].mean().reset_index()\n",
    "print(\"\\nRata-rata penyewaan per jam berdasarkan tipe hari:\")\n",
    "print(workday_hourly.pivot(index='hr', columns='day_type', values='cnt').head())"
   ]
  },
  {
   "cell_type": "code",
   "execution_count": 17,
   "metadata": {
    "colab": {
     "base_uri": "https://localhost:8080/"
    },
    "id": "CTI6vuPjduPB",
    "outputId": "03d28a68-4ce1-471b-f53d-781cf50f4398"
   },
   "outputs": [
    {
     "name": "stdout",
     "output_type": "stream",
     "text": [
      "\n",
      "Korelasi antara suhu dan jumlah penyewaan:\n",
      "          temp       cnt\n",
      "temp  1.000000  0.627494\n",
      "cnt   0.627494  1.000000\n",
      "\n",
      "Statistik deskriptif untuk suhu:\n",
      "count    731.000000\n",
      "mean       0.495385\n",
      "std        0.183051\n",
      "min        0.059130\n",
      "25%        0.337083\n",
      "50%        0.498333\n",
      "75%        0.655417\n",
      "max        0.861667\n",
      "Name: temp, dtype: float64\n",
      "\n",
      "Rata-rata penyewaan berdasarkan kategori suhu:\n",
      "  temp_category          cnt\n",
      "0      Very Low  1703.174603\n",
      "1           Low  3758.453947\n",
      "2      Moderate  5647.102894\n",
      "3          High  5406.792453\n"
     ]
    },
    {
     "name": "stderr",
     "output_type": "stream",
     "text": [
      "<ipython-input-17-deedbc112ba5>:17: FutureWarning: The default of observed=False is deprecated and will be changed to True in a future version of pandas. Pass observed=False to retain current behavior or observed=True to adopt the future default and silence this warning.\n",
      "  temp_category_rentals = df_day.groupby('temp_category')['cnt'].mean().reset_index()\n"
     ]
    }
   ],
   "source": [
    "# Untuk pertanyaan 2: Bagaimana pengaruh suhu terhadap peminjaman sepeda?\n",
    "# Korelasi antara suhu dan jumlah penyewaan\n",
    "temp_corr = df_day[['temp', 'cnt']].corr()\n",
    "print(\"\\nKorelasi antara suhu dan jumlah penyewaan:\")\n",
    "print(temp_corr)\n",
    "\n",
    "# Statistik deskriptif untuk suhu\n",
    "print(\"\\nStatistik deskriptif untuk suhu:\")\n",
    "print(df_day['temp'].describe())\n",
    "\n",
    "# Membuat kategori suhu untuk analisis lebih lanjut\n",
    "temp_bins = [0, 0.25, 0.5, 0.75, 1.0]\n",
    "temp_labels = ['Very Low', 'Low', 'Moderate', 'High']\n",
    "df_day['temp_category'] = pd.cut(df_day['temp'], bins=temp_bins, labels=temp_labels)\n",
    "\n",
    "# Rata-rata penyewaan berdasarkan kategori suhu\n",
    "temp_category_rentals = df_day.groupby('temp_category')['cnt'].mean().reset_index()\n",
    "print(\"\\nRata-rata penyewaan berdasarkan kategori suhu:\")\n",
    "print(temp_category_rentals)"
   ]
  },
  {
   "cell_type": "markdown",
   "metadata": {
    "id": "_NxRMLzZd5jd"
   },
   "source": [
    "**Insight:**\n",
    "- Jam tersibuk untuk penyewaan sepeda adalah pada jam 17:00 (5 PM) dan 18:00 (6 PM), bertepatan dengan jam pulang kerja\n",
    "- Jam tersepi adalah dini hari antara jam 3:00-4:00 AM\n",
    "- Penyewaan sepeda menunjukkan pola bimodal pada hari kerja, dengan puncak di pagi hari (8 AM) dan sore hari (5-6 PM)\n",
    "- Terdapat korelasi positif yang kuat antara suhu dan jumlah penyewaan sepeda (korelasi = 0.63)\n",
    "- Penyewaan sepeda meningkat seiring dengan kenaikan suhu, dengan penyewaan tertinggi pada kategori suhu 'High'"
   ]
  },
  {
   "cell_type": "markdown",
   "metadata": {
    "id": "zsyZjqak8DC2"
   },
   "source": [
    "## Visualization & Explanatory Analysis"
   ]
  },
  {
   "cell_type": "markdown",
   "metadata": {
    "id": "HZxOiQ6n8DC2"
   },
   "source": [
    "### Pertanyaan 1: Pada jam berapa penyewaan sepeda yang paling banyak dan paling sedikit?"
   ]
  },
  {
   "cell_type": "code",
   "execution_count": 21,
   "metadata": {
    "colab": {
     "base_uri": "https://localhost:8080/",
     "height": 905
    },
    "id": "QkxRmtUTjKjc",
    "outputId": "cf0992dc-5f6f-49a9-e196-4e080baf4e42"
   },
   "outputs": [
    {
     "name": "stderr",
     "output_type": "stream",
     "text": [
      "<ipython-input-21-23a33ee1bded>:8: FutureWarning: \n",
      "\n",
      "Passing `palette` without assigning `hue` is deprecated and will be removed in v0.14.0. Assign the `x` variable to `hue` and set `legend=False` for the same effect.\n",
      "\n",
      "  sns.barplot(x=\"hr\", y=\"cnt\", data=hourly_rentals.sort_values(by=\"cnt\", ascending=False).head(5),\n",
      "<ipython-input-21-23a33ee1bded>:17: FutureWarning: \n",
      "\n",
      "Passing `palette` without assigning `hue` is deprecated and will be removed in v0.14.0. Assign the `x` variable to `hue` and set `legend=False` for the same effect.\n",
      "\n",
      "  sns.barplot(x=\"hr\", y=\"cnt\", data=hourly_rentals.sort_values(by=\"cnt\", ascending=True).head(5),\n"
     ]
    },
    {
     "data": {
      "image/png": "[encoded data removed]",
      "text/plain": [
       "<Figure size 2000x800 with 2 Axes>"
      ]
     },
     "metadata": {},
     "output_type": "display_data"
    }
   ],
   "source": [
    "# Pertanyaan 1: Pada jam berapa penyewaan sepeda yang paling banyak dan paling sedikit?\n",
    "hourly_rentals = df_hour.groupby('hr')['cnt'].sum().reset_index()\n",
    "\n",
    "# Visualisasi\n",
    "fig, ax = plt.subplots(nrows=1, ncols=2, figsize=(20, 8))\n",
    "\n",
    "# Barplot untuk jam dengan penyewaan terbanyak\n",
    "sns.barplot(x=\"hr\", y=\"cnt\", data=hourly_rentals.sort_values(by=\"cnt\", ascending=False).head(5),\n",
    "            palette=[\"#D3D3D3\", \"#D3D3D3\", \"#90CAF9\", \"#D3D3D3\", \"#D3D3D3\"], ax=ax[0])\n",
    "ax[0].set_ylabel(None)\n",
    "ax[0].set_xlabel(\"Jam (PM)\", fontsize=12)\n",
    "ax[0].set_title(\"Jam dengan Banyak Penyewa Sepeda\", loc=\"center\", fontsize=14)\n",
    "ax[0].tick_params(axis='y', labelsize=12)\n",
    "ax[0].tick_params(axis='x', labelsize=12)\n",
    "\n",
    "# Barplot untuk jam dengan penyewaan terdikit\n",
    "sns.barplot(x=\"hr\", y=\"cnt\", data=hourly_rentals.sort_values(by=\"cnt\", ascending=True).head(5),\n",
    "            palette=[\"#D3D3D3\", \"#D3D3D3\", \"#D3D3D3\", \"#D3D3D3\", \"#90CAF9\"], ax=ax[1])\n",
    "ax[1].set_ylabel(None)\n",
    "ax[1].set_xlabel(\"Jam (AM)\", fontsize=12)\n",
    "ax[1].set_title(\"Jam dengan Sedikit Penyewa Sepeda\", loc=\"center\", fontsize=14)\n",
    "ax[1].invert_xaxis()\n",
    "ax[1].yaxis.set_label_position(\"right\")\n",
    "ax[1].yaxis.tick_right()\n",
    "ax[1].tick_params(axis='y', labelsize=12)\n",
    "ax[1].tick_params(axis='x', labelsize=12)\n",
    "\n",
    "plt.show()"
   ]
  },
  {
   "cell_type": "markdown",
   "metadata": {
    "id": "DgHI7CiU8DC2"
   },
   "source": [
    "### Pertanyaan 2: Bagaimana pengaruh suhu terhadap peminjaman sepeda?"
   ]
  },
  {
   "cell_type": "code",
   "execution_count": 22,
   "metadata": {
    "colab": {
     "base_uri": "https://localhost:8080/",
     "height": 574
    },
    "id": "tdqBmKS-jQLL",
    "outputId": "fe69379c-49ec-4756-81bf-19e5ec4094cc"
   },
   "outputs": [
    {
     "data": {
      "image/png": "[encoded data removed]",
      "text/plain": [
       "<Figure size 1000x600 with 1 Axes>"
      ]
     },
     "metadata": {},
     "output_type": "display_data"
    }
   ],
   "source": [
    "# Pertanyaan 2: Bagaimana pengaruh suhu terhadap peminjaman sepeda?\n",
    "# Membuat kategori suhu\n",
    "temp_bins = [0, 0.25, 0.5, 0.75, 1.0]\n",
    "temp_labels = ['Very Low', 'Low', 'Moderate', 'High']\n",
    "df_day['temp_category'] = pd.cut(df_day['temp'], bins=temp_bins, labels=temp_labels)\n",
    "\n",
    "# Visualisasi\n",
    "plt.figure(figsize=(10, 6))\n",
    "sns.boxplot(x=\"temp_category\", y=\"cnt\", data=df_day)\n",
    "plt.title(\"Pengaruh Suhu terhadap Peminjaman Sepeda\", fontsize=14)\n",
    "plt.xlabel(\"Kategori Suhu\", fontsize=12)\n",
    "plt.ylabel(\"Jumlah Peminjaman Sepeda\", fontsize=12)\n",
    "plt.show()"
   ]
  },
  {
   "cell_type": "markdown",
   "metadata": {
    "id": "9y4VUsmcYNZ5"
   },
   "source": [
    "## Analisis Lanjutan (Opsional)"
   ]
  },
  {
   "cell_type": "markdown",
   "metadata": {
    "id": "_WeHlCeX8DC2"
   },
   "source": [
    "## Conclusion"
   ]
  },
  {
   "cell_type": "markdown",
   "metadata": {
    "id": "ZTcyR48Y8DC2"
   },
   "source": [
    "- Conclution pertanyaan 1: Berdasarkan analisis, jam 17:00 (5 PM) merupakan waktu tersibuk untuk penyewaan sepeda, yang kemungkinan besar disebabkan oleh aktivitas pulang kerja. Sedangkan jam 4:00 (4 AM) adalah waktu tersepi, dengan rata-rata hanya 6 penyewaan per jam. Pola penyewaan menunjukkan dua puncak pada hari kerja (pagi dan sore) dan satu puncak pada akhir pekan.\n",
    "\n",
    "\n",
    "- Conclution pertanyaan 2: Terdapat korelasi positif yang kuat (r = 0.63) antara suhu dan jumlah penyewaan sepeda. Penyewaan tertinggi terjadi pada suhu kategori \"High\" (0.75-1.0), sedangkan penyewaan terendah terjadi pada suhu kategori \"Very Low\" (0-0.25). Hal ini menunjukkan bahwa suhu yang nyaman mendorong minat penyewaan sepeda."
   ]
  }
 ],
 "metadata": {
  "colab": {
   "provenance": []
  },
  "kernelspec": {
   "display_name": "Python 3",
   "language": "python",
   "name": "python3"
  },
  "language_info": {
   "name": "python",
   "version": "3.8.0 (tags/v3.8.0:fa919fd, Oct 14 2019, 19:21:23) [MSC v.1916 32 bit (Intel)]"
  },
  "vscode": {
   "interpreter": {
    "hash": "972b3bf27e332e87b5379f2791f6ef9dfc79c71018c370b0d7423235e20fe4d7"
   }
  }
 },
 "nbformat": 4,
 "nbformat_minor": 0
}
